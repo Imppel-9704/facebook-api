{
  "nbformat": 4,
  "nbformat_minor": 0,
  "metadata": {
    "colab": {
      "provenance": [],
      "authorship_tag": "ABX9TyMhj8lF7zAEABVQJZWYeLlw"
    },
    "kernelspec": {
      "name": "python3",
      "display_name": "Python 3"
    },
    "language_info": {
      "name": "python"
    }
  },
  "cells": [
    {
      "cell_type": "code",
      "source": [
        "pip install facebook_business"
      ],
      "metadata": {
        "id": "-JksebttsjC8"
      },
      "execution_count": null,
      "outputs": []
    },
    {
      "cell_type": "code",
      "source": [
        "pip install pandas"
      ],
      "metadata": {
        "id": "J9e__6p0spiO"
      },
      "execution_count": null,
      "outputs": []
    },
    {
      "cell_type": "code",
      "execution_count": null,
      "metadata": {
        "id": "vjUWEf5Ijs_m"
      },
      "outputs": [],
      "source": [
        "import time\n",
        "import pandas as pd\n",
        "from facebook_business.api import FacebookAdsApi\n",
        "from facebook_business.adobjects.adaccount import AdAccount\n",
        "from facebook_business.adobjects.business import Business\n",
        "from facebook_business.adobjects.adsinsights import AdsInsights\n",
        "from facebook_business.adobjects.adreportrun import AdReportRun\n",
        "\n",
        "# In case of error code 1 with message \"Please reduce the amount of data you're asking for, then retry your request\"\n",
        "def wait_for_async_job(request, timeout=300):\n",
        "    for _ in range(timeout):\n",
        "        time.sleep(3)\n",
        "        job = request.api_get()\n",
        "        status = job[AdReportRun.Field.async_status]\n",
        "        print(status)\n",
        "        if status == \"Job Completed\":\n",
        "            return job.get_result()\n",
        "\n",
        "def get_data(accounts, fields, params):\n",
        "\n",
        "    res_list = []\n",
        "    f_acc_list = []\n",
        "\n",
        "    # Insights\n",
        "    for account in accounts:\n",
        "        acc = AdAccount(account['id'])\n",
        "        try:\n",
        "            res = acc.get_insights(fields=fields, params=params)\n",
        "            if res:\n",
        "                res_list += [dict(item) for item in res]\n",
        "        except Exception as e:\n",
        "            print(f\"This account got an error: {e}\")\n",
        "            f_acc_list.append(acc)\n",
        "\n",
        "    if f_acc_list:\n",
        "        # Async Insights\n",
        "        for acc in f_acc_list:\n",
        "            try:\n",
        "                request = acc.get_insights(fields=fields, params=params, is_async=True)\n",
        "                async_res = wait_for_async_job(request)\n",
        "                if async_res:\n",
        "                    res_list += [dict(item) for item in async_res]\n",
        "            except Exception as e:\n",
        "                print(f\"Error in: {e}\")\n",
        "    return res_list\n",
        "\n",
        "def clean_export(res_list):\n",
        "    df = pd.json_normalize(res_list)\n",
        "    df.to_csv('facebook_data.csv', index=False, encoding='utf-8-sig')\n",
        "\n",
        "def call_api():\n",
        "    fields = [\n",
        "            AdsInsights.Field.account_id,\n",
        "            AdsInsights.Field.account_name,\n",
        "            AdsInsights.Field.campaign_id,\n",
        "            AdsInsights.Field.campaign_name,\n",
        "            AdsInsights.Field.objective,\n",
        "            AdsInsights.Field.creative_media_type,\n",
        "            AdsInsights.Field.impressions,\n",
        "            AdsInsights.Field.spend,\n",
        "            AdsInsights.Field.inline_link_clicks\n",
        "            ]\n",
        "\n",
        "    params = {\n",
        "            'date_preset': 'today',\n",
        "            'level': 'campaign'\n",
        "            }\n",
        "\n",
        "    my_app_id = 'your_app_id'\n",
        "    my_app_secret = 'your_app_secret'\n",
        "    my_access_token = 'your_access_token'\n",
        "    FacebookAdsApi.init(my_app_id, my_app_secret, my_access_token)\n",
        "\n",
        "    business_id = Business('your_business_id')\n",
        "\n",
        "    accounts = business_id.get_owned_ad_accounts()\n",
        "    data = get_data(accounts, fields, params)\n",
        "    clean_export(data)\n",
        "\n",
        "if __name__ == '__main__':\n",
        "    call_api()"
      ]
    }
  ]
}